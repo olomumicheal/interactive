{
  "nbformat": 4,
  "nbformat_minor": 0,
  "metadata": {
    "colab": {
      "provenance": [],
      "authorship_tag": "ABX9TyP8IIBj0ql7LUf7ZuyAR6Pc",
      "include_colab_link": true
    },
    "kernelspec": {
      "name": "python3",
      "display_name": "Python 3"
    },
    "language_info": {
      "name": "python"
    }
  },
  "cells": [
    {
      "cell_type": "markdown",
      "metadata": {
        "id": "view-in-github",
        "colab_type": "text"
      },
      "source": [
        "<a href=\"https://colab.research.google.com/github/olomumicheal/interactive/blob/main/Copy_of_class2.ipynb\" target=\"_parent\"><img src=\"https://colab.research.google.com/assets/colab-badge.svg\" alt=\"Open In Colab\"/></a>"
      ]
    },
    {
      "cell_type": "code",
      "execution_count": null,
      "metadata": {
        "colab": {
          "base_uri": "https://localhost:8080/"
        },
        "id": "NRM_jbFUhfCY",
        "outputId": "f2c0ee9c-dadd-48ed-f643-cf7ce3ff0a61"
      },
      "outputs": [
        {
          "output_type": "stream",
          "name": "stdout",
          "text": [
            "x is greater than 4\n"
          ]
        }
      ],
      "source": [
        "#If statement\n",
        "x = 5\n",
        "if x > 4:\n",
        "  print(\"x is greater than 4\")"
      ]
    },
    {
      "cell_type": "code",
      "source": [
        "#if else statement\n",
        "x = 5\n",
        "if x > 10:\n",
        "  print(\"x is greater than 10\")\n",
        "else:\n",
        "  print(\"x is less than 10\")"
      ],
      "metadata": {
        "colab": {
          "base_uri": "https://localhost:8080/"
        },
        "id": "C-pnADPgio5x",
        "outputId": "8796a3ef-263d-4a3b-9168-78548f7341a7"
      },
      "execution_count": null,
      "outputs": [
        {
          "output_type": "stream",
          "name": "stdout",
          "text": [
            "x is less than 10\n"
          ]
        }
      ]
    },
    {
      "cell_type": "code",
      "source": [
        "#For loop\n",
        "fruits = [\"apple\", \"banana\", \"cherry\"]\n",
        "for fruit in fruits:\n",
        "  print(fruit)"
      ],
      "metadata": {
        "colab": {
          "base_uri": "https://localhost:8080/"
        },
        "id": "rgAMRZzdjMAA",
        "outputId": "ff27300a-177c-46cb-c5f8-164d890211dc"
      },
      "execution_count": null,
      "outputs": [
        {
          "output_type": "stream",
          "name": "stdout",
          "text": [
            "apple\n",
            "banana\n",
            "cherry\n"
          ]
        }
      ]
    },
    {
      "cell_type": "code",
      "source": [
        "#While loop\n",
        "i = 0\n",
        "while i < 5:\n",
        "  print(i)\n",
        "  i += 1"
      ],
      "metadata": {
        "colab": {
          "base_uri": "https://localhost:8080/"
        },
        "id": "km9N7M0djwww",
        "outputId": "a9347b3b-dbf1-4ca6-83b6-1521b83567ff"
      },
      "execution_count": null,
      "outputs": [
        {
          "output_type": "stream",
          "name": "stdout",
          "text": [
            "0\n",
            "1\n",
            "2\n",
            "3\n",
            "4\n"
          ]
        }
      ]
    },
    {
      "cell_type": "code",
      "source": [
        "#Functions\n",
        "def greet(name):\n",
        "  print(\"Hello, \" + name + \"!\")\n",
        "\n",
        "greet(\"john doe\")"
      ],
      "metadata": {
        "colab": {
          "base_uri": "https://localhost:8080/"
        },
        "id": "IrBYs-WJklXC",
        "outputId": "6b708bde-e43e-424f-f24c-b528db9f8ecb"
      },
      "execution_count": null,
      "outputs": [
        {
          "output_type": "stream",
          "name": "stdout",
          "text": [
            "Hello, john doe!\n"
          ]
        }
      ]
    },
    {
      "cell_type": "code",
      "source": [
        "#Still in functions with multiple parameters\n",
        "def calculate_area(length, width):\n",
        "  area = length * width\n",
        "  return area\n",
        "\n",
        "length = 5\n",
        "width = 3\n",
        "area = calculate_area(length, width)\n",
        "print(\"The area of the rectangle is: \", area)"
      ],
      "metadata": {
        "colab": {
          "base_uri": "https://localhost:8080/"
        },
        "id": "MTQ0YmFUlQA7",
        "outputId": "4f0d813b-a4d5-4dbf-83ec-41dbc0cf5b2b"
      },
      "execution_count": null,
      "outputs": [
        {
          "output_type": "stream",
          "name": "stdout",
          "text": [
            "The area of the rectangle is:  15\n"
          ]
        }
      ]
    },
    {
      "cell_type": "code",
      "source": [
        "#Creating an Expense Tracker with functions and loop\n",
        "def collect_expense():\n",
        "  item = input(\"Enter expense name: \")\n",
        "  amount = float(input(f\"Enter amount for {item}: N\"))\n",
        "  return {\"item\": item, \"amount\": amount}\n",
        "\n",
        "def show_summary(expenses):\n",
        "  total = 0\n",
        "  print(\"\\nSummary\")\n",
        "  for e in expenses:\n",
        "    print(f\"{e['item']} - N{e['amount']}\")\n",
        "    total += e[\"amount\"]\n",
        "  print(f\"Total: N{total}\")\n",
        "\n",
        "\n",
        "expenses = [collect_expense(), collect_expense(), collect_expense()]\n",
        "show_summary(expenses)\n",
        "\n",
        "\n"
      ],
      "metadata": {
        "id": "E7RwkoSLnctX"
      },
      "execution_count": null,
      "outputs": []
    }
  ]
}